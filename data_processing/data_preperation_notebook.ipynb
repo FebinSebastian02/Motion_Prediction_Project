{
 "cells": [
  {
   "attachments": {},
   "cell_type": "markdown",
   "metadata": {
    "collapsed": false
   },
   "source": [
    "# Import Libraries"
   ]
  },
  {
   "cell_type": "code",
   "metadata": {
    "collapsed": false,
    "ExecuteTime": {
     "end_time": "2024-06-24T14:11:15.896260Z",
     "start_time": "2024-06-24T14:11:15.891687Z"
    }
   },
   "source": [
    "import numpy as np\n",
    "import pandas as pd \n",
    "import pickle #Febin1"
   ],
   "outputs": [],
   "execution_count": 19
  },
  {
   "attachments": {},
   "cell_type": "markdown",
   "metadata": {
    "collapsed": false
   },
   "source": [
    "## Import Local Libraries"
   ]
  },
  {
   "cell_type": "code",
   "metadata": {
    "collapsed": false,
    "ExecuteTime": {
     "end_time": "2024-06-24T14:11:15.932834Z",
     "start_time": "2024-06-24T14:11:15.927547Z"
    }
   },
   "source": [
    "from readDataset import dataGrabber"
   ],
   "outputs": [],
   "execution_count": 20
  },
  {
   "attachments": {},
   "cell_type": "markdown",
   "metadata": {
    "collapsed": false
   },
   "source": [
    "## Step 1: Read Dataset"
   ]
  },
  {
   "cell_type": "code",
   "metadata": {
    "collapsed": false,
    "ExecuteTime": {
     "end_time": "2024-06-24T14:11:17.303518Z",
     "start_time": "2024-06-24T14:11:15.940771Z"
    }
   },
   "source": [
    "dataset_path = 'dataset/data/'\n",
    "\n",
    "recording_id_sel = ['18']\n",
    "\n",
    "# Initialize data Grabber Object\n",
    "data_obj = dataGrabber(dataset_path)\n",
    "\n",
    "data_obj.recording_id = recording_id_sel\n",
    "data_obj.read_csv_with_recordingID()\n",
    "\n",
    "track_data_raw = data_obj.get_tracks_data()\n",
    "track_meta_data_raw = data_obj.get_tracksMeta_data()"
   ],
   "outputs": [],
   "execution_count": 21
  },
  {
   "cell_type": "code",
   "metadata": {
    "ExecuteTime": {
     "end_time": "2024-06-24T14:11:17.320060Z",
     "start_time": "2024-06-24T14:11:17.305573Z"
    }
   },
   "source": "track_data_raw",
   "outputs": [
    {
     "data": {
      "text/plain": [
       "[        recordingId  trackId  frame  trackLifetime   xCenter   yCenter  \\\n",
       " 0                18        0      0              0  84.30107 -22.02852   \n",
       " 1                18        0      1              1  83.98532 -22.10562   \n",
       " 2                18        0      2              2  83.66711 -22.18349   \n",
       " 3                18        0      3              3  83.34667 -22.26174   \n",
       " 4                18        0      4              4  83.02679 -22.33976   \n",
       " ...             ...      ...    ...            ...       ...       ...   \n",
       " 625984           18      426  27986            123  68.22546 -24.44867   \n",
       " 625985           18      426  27987            124  68.07246 -24.49080   \n",
       " 625986           18      426  27988            125  67.91970 -24.53263   \n",
       " 625987           18      426  27989            126  67.76775 -24.57522   \n",
       " 625988           18      426  27990            127  67.61607 -24.61785   \n",
       " \n",
       "           heading    width   length  xVelocity  yVelocity  xAcceleration  \\\n",
       " 0       194.94744  1.85331  4.41079   -7.91662   -1.91685       -0.07138   \n",
       " 1       194.94288  1.85331  4.41079   -7.92878   -1.92552       -0.05625   \n",
       " 2       194.92958  1.85331  4.41079   -7.93992   -1.93380       -0.03202   \n",
       " 3       194.91645  1.85331  4.41079   -7.94897   -1.94156        0.00054   \n",
       " 4       194.91210  1.85331  4.41079   -7.95595   -1.94891        0.04048   \n",
       " ...           ...      ...      ...        ...        ...            ...   \n",
       " 625984  194.47915  1.83225  4.41557   -3.80161   -1.02343        0.12280   \n",
       " 625985  194.59007  1.83225  4.41557   -3.79732   -1.03583        0.12214   \n",
       " 625986  194.70190  1.83225  4.41557   -3.79268   -1.04817        0.12191   \n",
       " 625987  194.80673  1.83225  4.41557   -3.78791   -1.06035        0.12186   \n",
       " 625988  194.89910  1.83225  4.41557   -3.78303   -1.07254        0.12186   \n",
       " \n",
       "         yAcceleration  lonVelocity  latVelocity  lonAcceleration  \\\n",
       " 0            -0.14320      8.14317      0.18997          0.10590   \n",
       " 1            -0.14088      8.15716      0.18408          0.09067   \n",
       " 2            -0.13578      8.17010      0.17706          0.06592   \n",
       " 3            -0.12818      8.18088      0.17001          0.03248   \n",
       " 4            -0.11831      8.18953      0.16408         -0.00867   \n",
       " ...               ...          ...          ...              ...   \n",
       " 625984       -0.30452      3.93675     -0.04042         -0.04276   \n",
       " 625985       -0.30477      3.93579     -0.04587         -0.04143   \n",
       " 625986       -0.30484      3.93452     -0.05131         -0.04055   \n",
       " 625987       -0.30483      3.93311     -0.05711         -0.03991   \n",
       " 625988       -0.30483      3.93162     -0.06380         -0.03938   \n",
       " \n",
       "         latAcceleration  \n",
       " 0              -0.11994  \n",
       " 1              -0.12162  \n",
       " 2              -0.12294  \n",
       " 3              -0.12400  \n",
       " 4              -0.12474  \n",
       " ...                 ...  \n",
       " 625984         -0.32556  \n",
       " 625985         -0.32571  \n",
       " 625986         -0.32580  \n",
       " 625987         -0.32585  \n",
       " 625988         -0.32591  \n",
       " \n",
       " [625989 rows x 17 columns]]"
      ]
     },
     "execution_count": 22,
     "metadata": {},
     "output_type": "execute_result"
    }
   ],
   "execution_count": 22
  },
  {
   "cell_type": "code",
   "metadata": {
    "ExecuteTime": {
     "end_time": "2024-06-24T14:12:06.802907Z",
     "start_time": "2024-06-24T14:12:06.743144Z"
    }
   },
   "source": [
    "#Febin2 - To be implemented after dataset is preprocessed\n",
    "#mds = open('modified_dataset.txt', 'rb') #Opens already written modified_dataset.txt and reads its content and store it in mds object.\n",
    "#modifiedDataSet = pickle.load(mds)  #The mds object is loaded to read the byte content and is stored to modifiedDataSet object\n",
    "#mds.close() #mds object is closed\n",
    "#print(modifiedDataSet)"
   ],
   "outputs": [
    {
     "name": "stdout",
     "output_type": "stream",
     "text": [
      "[        recordingId  trackId  frame  trackLifetime   xCenter   yCenter  \\\n",
      "0                18        0      0              0  84.30107 -22.02852   \n",
      "1                18        0      1              1  83.98532 -22.10562   \n",
      "2                18        0      2              2  83.66711 -22.18349   \n",
      "3                18        0      3              3  83.34667 -22.26174   \n",
      "4                18        0      4              4  83.02679 -22.33976   \n",
      "...             ...      ...    ...            ...       ...       ...   \n",
      "625984           18      426  27986            123  68.22546 -24.44867   \n",
      "625985           18      426  27987            124  68.07246 -24.49080   \n",
      "625986           18      426  27988            125  67.91970 -24.53263   \n",
      "625987           18      426  27989            126  67.76775 -24.57522   \n",
      "625988           18      426  27990            127  67.61607 -24.61785   \n",
      "\n",
      "          heading    width   length  xVelocity  yVelocity  xAcceleration  \\\n",
      "0       194.94744  1.85331  4.41079   -7.91662   -1.91685       -0.07138   \n",
      "1       194.94288  1.85331  4.41079   -7.92878   -1.92552       -0.05625   \n",
      "2       194.92958  1.85331  4.41079   -7.93992   -1.93380       -0.03202   \n",
      "3       194.91645  1.85331  4.41079   -7.94897   -1.94156        0.00054   \n",
      "4       194.91210  1.85331  4.41079   -7.95595   -1.94891        0.04048   \n",
      "...           ...      ...      ...        ...        ...            ...   \n",
      "625984  194.47915  1.83225  4.41557   -3.80161   -1.02343        0.12280   \n",
      "625985  194.59007  1.83225  4.41557   -3.79732   -1.03583        0.12214   \n",
      "625986  194.70190  1.83225  4.41557   -3.79268   -1.04817        0.12191   \n",
      "625987  194.80673  1.83225  4.41557   -3.78791   -1.06035        0.12186   \n",
      "625988  194.89910  1.83225  4.41557   -3.78303   -1.07254        0.12186   \n",
      "\n",
      "        yAcceleration  lonVelocity  latVelocity  lonAcceleration  \\\n",
      "0            -0.14320      8.14317      0.18997          0.10590   \n",
      "1            -0.14088      8.15716      0.18408          0.09067   \n",
      "2            -0.13578      8.17010      0.17706          0.06592   \n",
      "3            -0.12818      8.18088      0.17001          0.03248   \n",
      "4            -0.11831      8.18953      0.16408         -0.00867   \n",
      "...               ...          ...          ...              ...   \n",
      "625984       -0.30452      3.93675     -0.04042         -0.04276   \n",
      "625985       -0.30477      3.93579     -0.04587         -0.04143   \n",
      "625986       -0.30484      3.93452     -0.05131         -0.04055   \n",
      "625987       -0.30483      3.93311     -0.05711         -0.03991   \n",
      "625988       -0.30483      3.93162     -0.06380         -0.03938   \n",
      "\n",
      "        latAcceleration  \n",
      "0              -0.11994  \n",
      "1              -0.12162  \n",
      "2              -0.12294  \n",
      "3              -0.12400  \n",
      "4              -0.12474  \n",
      "...                 ...  \n",
      "625984         -0.32556  \n",
      "625985         -0.32571  \n",
      "625986         -0.32580  \n",
      "625987         -0.32585  \n",
      "625988         -0.32591  \n",
      "\n",
      "[625989 rows x 17 columns]]\n"
     ]
    }
   ],
   "execution_count": 24
  }
 ],
 "metadata": {
  "kernelspec": {
   "display_name": "Python 3",
   "language": "python",
   "name": "python3"
  },
  "language_info": {
   "codemirror_mode": {
    "name": "ipython",
    "version": 3
   },
   "file_extension": ".py",
   "mimetype": "text/x-python",
   "name": "python",
   "nbconvert_exporter": "python",
   "pygments_lexer": "ipython3",
   "version": "3.10.11"
  }
 },
 "nbformat": 4,
 "nbformat_minor": 0
}
